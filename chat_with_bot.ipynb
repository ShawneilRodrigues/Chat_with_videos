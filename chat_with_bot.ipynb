{
 "cells": [
  {
   "cell_type": "code",
   "execution_count": 1,
   "metadata": {},
   "outputs": [
    {
     "name": "stdout",
     "output_type": "stream",
     "text": [
      "Getting video information for https://www.youtube.com/watch?v=7Hcg-rLYwdM\n",
      "Downloading video from YouTube...\n"
     ]
    },
    {
     "name": "stderr",
     "output_type": "stream",
     "text": [
      "Downloading video from YouTube: 100%|██████████| 4578531/4578531 [00:00<00:00, 5297510.46bytes/s]\n"
     ]
    },
    {
     "name": "stdout",
     "output_type": "stream",
     "text": [
      "Video saved to: ./shared_data/videos/video\\Welcome back to Planet Earth.mp4\n",
      "Transcript saved to: ./shared_data/videos/video\\captions.vtt\n"
     ]
    }
   ],
   "source": [
    "# Import required modules\n",
    "import sys\n",
    "sys.path.append('./')  # Add the current directory to the Python path\n",
    "\n",
    "from utils import download_video, get_transcript_vtt\n",
    "from pathlib import Path\n",
    "import json\n",
    "import os\n",
    "\n",
    "# Download YouTube video and transcript\n",
    "video_url = \"https://www.youtube.com/watch?v=7Hcg-rLYwdM\"  # specify your URL\n",
    "video_dir = \"./shared_data/videos/video\"\n",
    "video_filepath = download_video(video_url, video_dir)\n",
    "video_transcript_filepath = get_transcript_vtt(video_url, video_dir)\n",
    "\n",
    "# Display paths\n",
    "print(f\"Video saved to: {video_filepath}\")\n",
    "print(f\"Transcript saved to: {video_transcript_filepath}\")\n"
   ]
  },
  {
   "cell_type": "code",
   "execution_count": 2,
   "metadata": {},
   "outputs": [
    {
     "name": "stdout",
     "output_type": "stream",
     "text": [
      "Defaulting to user installation because normal site-packages is not writeable\n",
      "Collecting webvtt-py\n",
      "  Downloading webvtt_py-0.5.1-py3-none-any.whl.metadata (3.4 kB)\n",
      "Downloading webvtt_py-0.5.1-py3-none-any.whl (19 kB)\n",
      "Installing collected packages: webvtt-py\n",
      "Successfully installed webvtt-py-0.5.1\n",
      "Note: you may need to restart the kernel to use updated packages.\n"
     ]
    },
    {
     "name": "stderr",
     "output_type": "stream",
     "text": [
      "\n",
      "[notice] A new release of pip is available: 24.2 -> 24.3.1\n",
      "[notice] To update, run: python.exe -m pip install --upgrade pip\n"
     ]
    },
    {
     "name": "stdout",
     "output_type": "stream",
     "text": [
      "Metadata extraction completed.\n"
     ]
    }
   ],
   "source": [
    "%pip install webvtt-py\n",
    "\n",
    "from utils import str2time, maintain_aspect_ratio_resize\n",
    "import webvtt\n",
    "import cv2\n",
    "\n",
    "# Define paths\n",
    "extracted_frames_path = os.path.join(video_dir, 'extracted_frames')\n",
    "metadata_path = video_dir\n",
    "Path(extracted_frames_path).mkdir(parents=True, exist_ok=True)\n",
    "\n",
    "# Function to extract frames and metadata\n",
    "def extract_frames_and_metadata(video_path, transcript_path, frames_path, metadata_output_path):\n",
    "    metadata = []\n",
    "    video = cv2.VideoCapture(video_path)\n",
    "    transcript = webvtt.read(transcript_path)\n",
    "    \n",
    "    for idx, caption in enumerate(transcript):\n",
    "        start_time = str2time(caption.start)\n",
    "        end_time = str2time(caption.end)\n",
    "        mid_time = (start_time + end_time) / 2\n",
    "        \n",
    "        video.set(cv2.CAP_PROP_POS_MSEC, mid_time)\n",
    "        success, frame = video.read()\n",
    "        \n",
    "        if success:\n",
    "            frame_path = os.path.join(frames_path, f\"frame_{idx}.jpg\")\n",
    "            cv2.imwrite(frame_path, maintain_aspect_ratio_resize(frame, height=350))\n",
    "            \n",
    "            metadata.append({\n",
    "                'frame_path': frame_path,\n",
    "                'transcript': caption.text.replace(\"\\n\", \" \"),\n",
    "                'mid_time': mid_time,\n",
    "                'video_path': video_path\n",
    "            })\n",
    "        else:\n",
    "            print(f\"Could not extract frame at idx: {idx}\")\n",
    "\n",
    "    # Save metadata as JSON\n",
    "    metadata_file = os.path.join(metadata_output_path, 'metadata.json')\n",
    "    with open(metadata_file, 'w') as f:\n",
    "        json.dump(metadata, f)\n",
    "    return metadata\n",
    "\n",
    "# Run extraction\n",
    "metadata = extract_frames_and_metadata(video_filepath, video_transcript_filepath, extracted_frames_path, metadata_path)\n",
    "print(\"Metadata extraction completed.\")\n"
   ]
  },
  {
   "cell_type": "code",
   "execution_count": 16,
   "metadata": {},
   "outputs": [
    {
     "name": "stderr",
     "output_type": "stream",
     "text": [
      "  0%|          | 0/26 [00:59<?, ?it/s]\n"
     ]
    },
    {
     "ename": "ValueError",
     "evalue": "No api_key provided or in environment. Please provide the api_key as client = PredictionGuard(api_key=<your_api_key>) or as PREDICTIONGUARD_API_KEY in your environment.",
     "output_type": "error",
     "traceback": [
      "\u001b[1;31m---------------------------------------------------------------------------\u001b[0m",
      "\u001b[1;31mValueError\u001b[0m                                Traceback (most recent call last)",
      "Cell \u001b[1;32mIn[16], line 25\u001b[0m\n\u001b[0;32m     22\u001b[0m metadatas \u001b[38;5;241m=\u001b[39m metadata  \u001b[38;5;66;03m# Each metadata dictionary already contains necessary fields\u001b[39;00m\n\u001b[0;32m     24\u001b[0m \u001b[38;5;66;03m# Use from_text_image_pairs for ingestion into LanceDB\u001b[39;00m\n\u001b[1;32m---> 25\u001b[0m _ \u001b[38;5;241m=\u001b[39m \u001b[43mMultimodalLanceDB\u001b[49m\u001b[38;5;241;43m.\u001b[39;49m\u001b[43mfrom_text_image_pairs\u001b[49m\u001b[43m(\u001b[49m\n\u001b[0;32m     26\u001b[0m \u001b[43m    \u001b[49m\u001b[43mtexts\u001b[49m\u001b[38;5;241;43m=\u001b[39;49m\u001b[43mtexts\u001b[49m\u001b[43m,\u001b[49m\n\u001b[0;32m     27\u001b[0m \u001b[43m    \u001b[49m\u001b[43mimage_paths\u001b[49m\u001b[38;5;241;43m=\u001b[39;49m\u001b[43mimage_paths\u001b[49m\u001b[43m,\u001b[49m\n\u001b[0;32m     28\u001b[0m \u001b[43m    \u001b[49m\u001b[43membedding\u001b[49m\u001b[38;5;241;43m=\u001b[39;49m\u001b[43membedder\u001b[49m\u001b[43m,\u001b[49m\n\u001b[0;32m     29\u001b[0m \u001b[43m    \u001b[49m\u001b[43mmetadatas\u001b[49m\u001b[38;5;241;43m=\u001b[39;49m\u001b[43mmetadatas\u001b[49m\u001b[43m,\u001b[49m\n\u001b[0;32m     30\u001b[0m \u001b[43m    \u001b[49m\u001b[43mconnection\u001b[49m\u001b[38;5;241;43m=\u001b[39;49m\u001b[43mlancedb\u001b[49m\u001b[38;5;241;43m.\u001b[39;49m\u001b[43mconnect\u001b[49m\u001b[43m(\u001b[49m\u001b[43mLANCEDB_HOST_FILE\u001b[49m\u001b[43m)\u001b[49m\u001b[43m,\u001b[49m\u001b[43m  \u001b[49m\u001b[38;5;66;43;03m# Connection to LanceDB\u001b[39;49;00m\n\u001b[0;32m     31\u001b[0m \u001b[43m    \u001b[49m\u001b[43mtable_name\u001b[49m\u001b[38;5;241;43m=\u001b[39;49m\u001b[43mTABLE_NAME\u001b[49m\u001b[43m,\u001b[49m\n\u001b[0;32m     32\u001b[0m \u001b[43m    \u001b[49m\u001b[43mmode\u001b[49m\u001b[38;5;241;43m=\u001b[39;49m\u001b[38;5;124;43m\"\u001b[39;49m\u001b[38;5;124;43moverwrite\u001b[39;49m\u001b[38;5;124;43m\"\u001b[39;49m\u001b[43m  \u001b[49m\u001b[38;5;66;43;03m# Choose \"append\" if adding to an existing table\u001b[39;49;00m\n\u001b[0;32m     33\u001b[0m \u001b[43m)\u001b[49m\n\u001b[0;32m     35\u001b[0m \u001b[38;5;28mprint\u001b[39m(\u001b[38;5;124m\"\u001b[39m\u001b[38;5;124mData ingested into LanceDB.\u001b[39m\u001b[38;5;124m\"\u001b[39m)\n",
      "File \u001b[1;32mc:\\Users\\shawn\\OneDrive\\Desktop\\chat with bot\\mm_rag\\vectorstores\\multimodal_lancedb.py:129\u001b[0m, in \u001b[0;36mMultimodalLanceDB.from_text_image_pairs\u001b[1;34m(cls, texts, image_paths, embedding, metadatas, connection, vector_key, id_key, text_key, image_path_key, table_name, **kwargs)\u001b[0m\n\u001b[0;32m    104\u001b[0m \u001b[38;5;129m@classmethod\u001b[39m\n\u001b[0;32m    105\u001b[0m \u001b[38;5;28;01mdef\u001b[39;00m \u001b[38;5;21mfrom_text_image_pairs\u001b[39m(\n\u001b[0;32m    106\u001b[0m     \u001b[38;5;28mcls\u001b[39m,\n\u001b[1;32m   (...)\u001b[0m\n\u001b[0;32m    117\u001b[0m     \u001b[38;5;241m*\u001b[39m\u001b[38;5;241m*\u001b[39mkwargs: Any,\n\u001b[0;32m    118\u001b[0m ):\n\u001b[0;32m    120\u001b[0m     instance \u001b[38;5;241m=\u001b[39m MultimodalLanceDB(\n\u001b[0;32m    121\u001b[0m         connection\u001b[38;5;241m=\u001b[39mconnection,\n\u001b[0;32m    122\u001b[0m         embedding\u001b[38;5;241m=\u001b[39membedding,\n\u001b[1;32m   (...)\u001b[0m\n\u001b[0;32m    127\u001b[0m         table_name\u001b[38;5;241m=\u001b[39mtable_name,\n\u001b[0;32m    128\u001b[0m     )\n\u001b[1;32m--> 129\u001b[0m     \u001b[43minstance\u001b[49m\u001b[38;5;241;43m.\u001b[39;49m\u001b[43madd_text_image_pairs\u001b[49m\u001b[43m(\u001b[49m\u001b[43mtexts\u001b[49m\u001b[43m,\u001b[49m\u001b[43m \u001b[49m\u001b[43mimage_paths\u001b[49m\u001b[43m,\u001b[49m\u001b[43m \u001b[49m\u001b[43mmetadatas\u001b[49m\u001b[38;5;241;43m=\u001b[39;49m\u001b[43mmetadatas\u001b[49m\u001b[43m,\u001b[49m\u001b[43m \u001b[49m\u001b[38;5;241;43m*\u001b[39;49m\u001b[38;5;241;43m*\u001b[39;49m\u001b[43mkwargs\u001b[49m\u001b[43m)\u001b[49m\n\u001b[0;32m    131\u001b[0m     \u001b[38;5;28;01mreturn\u001b[39;00m instance\n",
      "File \u001b[1;32mc:\\Users\\shawn\\OneDrive\\Desktop\\chat with bot\\mm_rag\\vectorstores\\multimodal_lancedb.py:76\u001b[0m, in \u001b[0;36mMultimodalLanceDB.add_text_image_pairs\u001b[1;34m(self, texts, image_paths, metadatas, ids, **kwargs)\u001b[0m\n\u001b[0;32m     74\u001b[0m docs \u001b[38;5;241m=\u001b[39m []\n\u001b[0;32m     75\u001b[0m ids \u001b[38;5;241m=\u001b[39m ids \u001b[38;5;129;01mor\u001b[39;00m [\u001b[38;5;28mstr\u001b[39m(uuid\u001b[38;5;241m.\u001b[39muuid4()) \u001b[38;5;28;01mfor\u001b[39;00m _ \u001b[38;5;129;01min\u001b[39;00m texts]\n\u001b[1;32m---> 76\u001b[0m embeddings \u001b[38;5;241m=\u001b[39m \u001b[38;5;28;43mself\u001b[39;49m\u001b[38;5;241;43m.\u001b[39;49m\u001b[43m_embedding\u001b[49m\u001b[38;5;241;43m.\u001b[39;49m\u001b[43membed_image_text_pairs\u001b[49m\u001b[43m(\u001b[49m\u001b[43mtexts\u001b[49m\u001b[38;5;241;43m=\u001b[39;49m\u001b[38;5;28;43mlist\u001b[39;49m\u001b[43m(\u001b[49m\u001b[43mtexts\u001b[49m\u001b[43m)\u001b[49m\u001b[43m,\u001b[49m\u001b[43m \u001b[49m\u001b[43mimages\u001b[49m\u001b[38;5;241;43m=\u001b[39;49m\u001b[38;5;28;43mlist\u001b[39;49m\u001b[43m(\u001b[49m\u001b[43mimage_paths\u001b[49m\u001b[43m)\u001b[49m\u001b[43m)\u001b[49m  \u001b[38;5;66;03m# type: ignore\u001b[39;00m\n\u001b[0;32m     77\u001b[0m \u001b[38;5;28;01mfor\u001b[39;00m idx, text \u001b[38;5;129;01min\u001b[39;00m \u001b[38;5;28menumerate\u001b[39m(texts):\n\u001b[0;32m     78\u001b[0m     embedding \u001b[38;5;241m=\u001b[39m embeddings[idx]\n",
      "File \u001b[1;32mc:\\Users\\shawn\\OneDrive\\Desktop\\chat with bot\\mm_rag\\embeddings\\bridgetower_embeddings.py:54\u001b[0m, in \u001b[0;36mBridgeTowerEmbeddings.embed_image_text_pairs\u001b[1;34m(self, texts, images, batch_size)\u001b[0m\n\u001b[0;32m     52\u001b[0m embeddings \u001b[38;5;241m=\u001b[39m []\n\u001b[0;32m     53\u001b[0m \u001b[38;5;28;01mfor\u001b[39;00m path_to_img, text \u001b[38;5;129;01min\u001b[39;00m tqdm(\u001b[38;5;28mzip\u001b[39m(images, texts), total\u001b[38;5;241m=\u001b[39m\u001b[38;5;28mlen\u001b[39m(texts)):\n\u001b[1;32m---> 54\u001b[0m     embedding \u001b[38;5;241m=\u001b[39m \u001b[43mbt_embedding_from_prediction_guard\u001b[49m\u001b[43m(\u001b[49m\u001b[43mtext\u001b[49m\u001b[43m,\u001b[49m\u001b[43m \u001b[49m\u001b[43mencode_image\u001b[49m\u001b[43m(\u001b[49m\u001b[43mpath_to_img\u001b[49m\u001b[43m)\u001b[49m\u001b[43m)\u001b[49m\n\u001b[0;32m     55\u001b[0m     embeddings\u001b[38;5;241m.\u001b[39mappend(embedding)\n\u001b[0;32m     56\u001b[0m \u001b[38;5;28;01mreturn\u001b[39;00m embeddings\n",
      "File \u001b[1;32mc:\\Users\\shawn\\OneDrive\\Desktop\\chat with bot\\utils.py:307\u001b[0m, in \u001b[0;36mbt_embedding_from_prediction_guard\u001b[1;34m(prompt, base64_image)\u001b[0m\n\u001b[0;32m    305\u001b[0m \u001b[38;5;28;01mdef\u001b[39;00m \u001b[38;5;21mbt_embedding_from_prediction_guard\u001b[39m(prompt, base64_image):\n\u001b[0;32m    306\u001b[0m     \u001b[38;5;66;03m# get PredictionGuard client\u001b[39;00m\n\u001b[1;32m--> 307\u001b[0m     client \u001b[38;5;241m=\u001b[39m \u001b[43m_getPredictionGuardClient\u001b[49m\u001b[43m(\u001b[49m\u001b[43m)\u001b[49m\n\u001b[0;32m    308\u001b[0m     message \u001b[38;5;241m=\u001b[39m {\u001b[38;5;124m\"\u001b[39m\u001b[38;5;124mtext\u001b[39m\u001b[38;5;124m\"\u001b[39m: prompt,}\n\u001b[0;32m    309\u001b[0m     \u001b[38;5;28;01mif\u001b[39;00m base64_image \u001b[38;5;129;01mis\u001b[39;00m \u001b[38;5;129;01mnot\u001b[39;00m \u001b[38;5;28;01mNone\u001b[39;00m \u001b[38;5;129;01mand\u001b[39;00m base64_image \u001b[38;5;241m!=\u001b[39m \u001b[38;5;124m\"\u001b[39m\u001b[38;5;124m\"\u001b[39m:\n",
      "File \u001b[1;32mc:\\Users\\shawn\\OneDrive\\Desktop\\chat with bot\\utils.py:490\u001b[0m, in \u001b[0;36m_getPredictionGuardClient\u001b[1;34m()\u001b[0m\n\u001b[0;32m    488\u001b[0m \u001b[38;5;28;01mdef\u001b[39;00m \u001b[38;5;21m_getPredictionGuardClient\u001b[39m():\n\u001b[0;32m    489\u001b[0m     PREDICTION_GUARD_API_KEY \u001b[38;5;241m=\u001b[39m get_prediction_guard_api_key()\n\u001b[1;32m--> 490\u001b[0m     client \u001b[38;5;241m=\u001b[39m \u001b[43mPredictionGuard\u001b[49m\u001b[43m(\u001b[49m\n\u001b[0;32m    491\u001b[0m \u001b[43m        \u001b[49m\u001b[43mapi_key\u001b[49m\u001b[38;5;241;43m=\u001b[39;49m\u001b[43mPREDICTION_GUARD_API_KEY\u001b[49m\u001b[43m,\u001b[49m\n\u001b[0;32m    492\u001b[0m \u001b[43m        \u001b[49m\u001b[43murl\u001b[49m\u001b[38;5;241;43m=\u001b[39;49m\u001b[43mPREDICTION_GUARD_URL_ENDPOINT\u001b[49m\u001b[43m,\u001b[49m\n\u001b[0;32m    493\u001b[0m \u001b[43m    \u001b[49m\u001b[43m)\u001b[49m\n\u001b[0;32m    494\u001b[0m     \u001b[38;5;28;01mreturn\u001b[39;00m client\n",
      "File \u001b[1;32m~\\AppData\\Roaming\\Python\\Python312\\site-packages\\predictionguard\\client.py:38\u001b[0m, in \u001b[0;36mPredictionGuard.__init__\u001b[1;34m(self, api_key, url)\u001b[0m\n\u001b[0;32m     35\u001b[0m     api_key \u001b[38;5;241m=\u001b[39m os\u001b[38;5;241m.\u001b[39menviron\u001b[38;5;241m.\u001b[39mget(\u001b[38;5;124m\"\u001b[39m\u001b[38;5;124mPREDICTIONGUARD_API_KEY\u001b[39m\u001b[38;5;124m\"\u001b[39m)\n\u001b[0;32m     37\u001b[0m \u001b[38;5;28;01mif\u001b[39;00m \u001b[38;5;129;01mnot\u001b[39;00m api_key:\n\u001b[1;32m---> 38\u001b[0m     \u001b[38;5;28;01mraise\u001b[39;00m \u001b[38;5;167;01mValueError\u001b[39;00m(\n\u001b[0;32m     39\u001b[0m         \u001b[38;5;124m\"\u001b[39m\u001b[38;5;124mNo api_key provided or in environment. \u001b[39m\u001b[38;5;124m\"\u001b[39m\n\u001b[0;32m     40\u001b[0m         \u001b[38;5;124m\"\u001b[39m\u001b[38;5;124mPlease provide the api_key as \u001b[39m\u001b[38;5;124m\"\u001b[39m\n\u001b[0;32m     41\u001b[0m         \u001b[38;5;124m\"\u001b[39m\u001b[38;5;124mclient = PredictionGuard(api_key=<your_api_key>) \u001b[39m\u001b[38;5;124m\"\u001b[39m\n\u001b[0;32m     42\u001b[0m         \u001b[38;5;124m\"\u001b[39m\u001b[38;5;124mor as PREDICTIONGUARD_API_KEY in your environment.\u001b[39m\u001b[38;5;124m\"\u001b[39m\n\u001b[0;32m     43\u001b[0m     )\n\u001b[0;32m     44\u001b[0m \u001b[38;5;28mself\u001b[39m\u001b[38;5;241m.\u001b[39mapi_key \u001b[38;5;241m=\u001b[39m api_key\n\u001b[0;32m     46\u001b[0m \u001b[38;5;28;01mif\u001b[39;00m \u001b[38;5;129;01mnot\u001b[39;00m url:\n",
      "\u001b[1;31mValueError\u001b[0m: No api_key provided or in environment. Please provide the api_key as client = PredictionGuard(api_key=<your_api_key>) or as PREDICTIONGUARD_API_KEY in your environment."
     ]
    }
   ],
   "source": [
    "import lancedb\n",
    "from mm_rag.embeddings.bridgetower_embeddings import BridgeTowerEmbeddings\n",
    "from mm_rag.vectorstores.multimodal_lancedb import MultimodalLanceDB\n",
    "\n",
    "# LanceDB setup\n",
    "LANCEDB_HOST_FILE = \"./shared_data/.lancedb\"\n",
    "TABLE_NAME = \"video_data\"\n",
    "\n",
    "# Initialize BridgeTower embeddings\n",
    "embedder = BridgeTowerEmbeddings()\n",
    "\n",
    "# Setup LanceDB vector store\n",
    "vector_store = MultimodalLanceDB(uri=LANCEDB_HOST_FILE, embedding=embedder, table_name=TABLE_NAME)\n",
    "\n",
    "# Insert metadata into LanceDB\n",
    "# Initialize BridgeTower embedder \n",
    "embedder = BridgeTowerEmbeddings()\n",
    "\n",
    "# Prepare text and image data for ingestion\n",
    "texts = [data[\"transcript\"] for data in metadata]\n",
    "image_paths = [data[\"frame_path\"] for data in metadata]\n",
    "metadatas = metadata  # Each metadata dictionary already contains necessary fields\n",
    "\n",
    "# Use from_text_image_pairs for ingestion into LanceDB\n",
    "_ = MultimodalLanceDB.from_text_image_pairs(\n",
    "    texts=texts,\n",
    "    image_paths=image_paths,\n",
    "    embedding=embedder,\n",
    "    metadatas=metadatas,\n",
    "    connection=lancedb.connect(LANCEDB_HOST_FILE),  # Connection to LanceDB\n",
    "    table_name=TABLE_NAME,\n",
    "    mode=\"overwrite\"  # Choose \"append\" if adding to an existing table\n",
    ")\n",
    "\n",
    "print(\"Data ingested into LanceDB.\")\n",
    "\n",
    "\n"
   ]
  },
  {
   "cell_type": "code",
   "execution_count": null,
   "metadata": {},
   "outputs": [],
   "source": []
  }
 ],
 "metadata": {
  "kernelspec": {
   "display_name": "base",
   "language": "python",
   "name": "python3"
  },
  "language_info": {
   "codemirror_mode": {
    "name": "ipython",
    "version": 3
   },
   "file_extension": ".py",
   "mimetype": "text/x-python",
   "name": "python",
   "nbconvert_exporter": "python",
   "pygments_lexer": "ipython3",
   "version": "3.12.4"
  }
 },
 "nbformat": 4,
 "nbformat_minor": 2
}
